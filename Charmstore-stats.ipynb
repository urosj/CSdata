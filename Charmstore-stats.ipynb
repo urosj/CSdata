{
 "cells": [
  {
   "cell_type": "markdown",
   "metadata": {},
   "source": [
    "Code that downloads the information about charm uploads."
   ]
  },
  {
   "cell_type": "code",
   "execution_count": null,
   "metadata": {},
   "outputs": [],
   "source": [
    "import json\n",
    "import sys\n",
    "import requests\n",
    "from datetime import datetime\n",
    "from datetime import timedelta\n",
    "\n",
    "CHARMSTORE_URL = 'https://api.jujucharms.com/charmstore/v5'\n",
    "CHANGES_URL = '/changes/published?'\n",
    "\n",
    "def download_stats(start_date_str, end_date_str, interval, arg_output):\n",
    "    start_date = datetime.strptime(start_date_str, '%Y-%m-%d')\n",
    "    end_date = datetime.strptime(end_date_str, '%Y-%m-%d')\n",
    "\n",
    "    data = []\n",
    "\n",
    "    while start_date <= end_date:\n",
    "        eow = start_date + timedelta(days=interval-1)\n",
    "        param1 = start_date.strftime('%Y-%m-%d')\n",
    "        param2 = eow.strftime('%Y-%m-%d')\n",
    "        print(param1, param2)\n",
    "\n",
    "        cs_data = {}\n",
    "        cs_data[\"start\"] = param1\n",
    "        cs_data[\"stop\"] = param2\n",
    "\n",
    "        url = CHARMSTORE_URL+CHANGES_URL+\"start=\"+param1+\"&stop=\"+param2\n",
    "        #print url\n",
    "        r = requests.get(url)\t\n",
    "        uploads = {}\n",
    "        uploads[\"date\"]=param1\n",
    "        uploads[\"charms\"]=r.json()\n",
    "        data.append(uploads)\n",
    "\n",
    "        start_date = eow + timedelta(days=1)\n",
    "\n",
    "    f = open(arg_output, \"w\")\n",
    "    f.write(json.dumps(data))\n"
   ]
  },
  {
   "cell_type": "markdown",
   "metadata": {},
   "source": [
    "Let's get data for two days, October 18th and 19th 2018. Write it out to test-changes.json."
   ]
  },
  {
   "cell_type": "code",
   "execution_count": null,
   "metadata": {},
   "outputs": [],
   "source": [
    "download_stats(\"2018-10-18\", \"2018-10-19\", 1, \"test-changes.json\")"
   ]
  },
  {
   "cell_type": "code",
   "execution_count": null,
   "metadata": {},
   "outputs": [],
   "source": [
    "with open('test-changes.json') as f:\n",
    "    data = json.load(f)"
   ]
  },
  {
   "cell_type": "code",
   "execution_count": null,
   "metadata": {},
   "outputs": [],
   "source": [
    "print(data)"
   ]
  },
  {
   "cell_type": "code",
   "execution_count": null,
   "metadata": {},
   "outputs": [],
   "source": [
    "download_stats(\"2018-01-01\", \"2018-10-19\", 1, \"uploads.json\")"
   ]
  },
  {
   "cell_type": "code",
   "execution_count": null,
   "metadata": {},
   "outputs": [],
   "source": [
    "with open(\"uploads.json\") as f:\n",
    "    data = json.load(f)"
   ]
  },
  {
   "cell_type": "markdown",
   "metadata": {},
   "source": [
    "Now we have JSON data for uploads. For each item, map the date to the number of uploads for that date, getting two arrays: array of dates, and array of number of uploads."
   ]
  },
  {
   "cell_type": "code",
   "execution_count": null,
   "metadata": {},
   "outputs": [],
   "source": [
    "dates = []\n",
    "uploads = []\n",
    "num_uploads = []\n",
    "for d in data:\n",
    "    dates.append(d['date'])\n",
    "    uploads.append(d['charms'])\n",
    "    num_uploads.append(len(d['charms']))\n",
    "    \n",
    "#print(dates)\n",
    "print(num_uploads)"
   ]
  },
  {
   "cell_type": "markdown",
   "metadata": {},
   "source": [
    "Let's export the data, so that we can load it later with pandas."
   ]
  },
  {
   "cell_type": "code",
   "execution_count": null,
   "metadata": {},
   "outputs": [],
   "source": [
    "import pandas as pd\n",
    "import numpy as np\n",
    "\n",
    "a = np.array(dates)\n",
    "b = np.array(num_uploads)\n",
    "df = pd.DataFrame({\"date\" : a, \"num_uploads\" : b})\n",
    "df.to_csv(\"num-uploads.csv\", index=False)"
   ]
  },
  {
   "cell_type": "markdown",
   "metadata": {},
   "source": [
    "Let's load the data and print out some info about it."
   ]
  },
  {
   "cell_type": "code",
   "execution_count": null,
   "metadata": {},
   "outputs": [],
   "source": [
    "uploads_data = pd.read_csv(\"num-uploads.csv\")\n",
    "uploads_data.head()"
   ]
  },
  {
   "cell_type": "code",
   "execution_count": null,
   "metadata": {},
   "outputs": [],
   "source": [
    "uploads_data.info"
   ]
  },
  {
   "cell_type": "code",
   "execution_count": null,
   "metadata": {},
   "outputs": [],
   "source": [
    "uploads_data['num_uploads'].plot(kind=\"bar\", figsize=(50,25))"
   ]
  },
  {
   "cell_type": "code",
   "execution_count": null,
   "metadata": {},
   "outputs": [],
   "source": [
    "import matplotlib.pyplot as plt\n",
    "uploads_data.hist(bins=50, figsize=(20,15))\n",
    "plt.show()"
   ]
  },
  {
   "cell_type": "code",
   "execution_count": null,
   "metadata": {},
   "outputs": [],
   "source": [
    "uploads_data['num_uploads'].agg([pd.np.min, pd.np.max, pd.np.mean, pd.np.sum])"
   ]
  },
  {
   "cell_type": "code",
   "execution_count": null,
   "metadata": {},
   "outputs": [],
   "source": [
    "def split_name(charm):\n",
    "    #print(charm)\n",
    "    n = charm.replace('cs:~','').split('/')\n",
    "    nn = n[-1].split('-')\n",
    "    del(nn[-1])\n",
    "    charm_name = \"-\".join(nn)\n",
    "    #print(n[0], charm_name)\n",
    "    return n[0], charm_name\n",
    "\n",
    "charmers = []\n",
    "charms = []\n",
    "\n",
    "#print(uploads)\n",
    "for day in uploads:\n",
    "    for upload in day:\n",
    "        charm = upload['Id']\n",
    "        charmer, charm_name = split_name(charm)\n",
    "        charmers.append(charmer)\n",
    "        charms.append(charm_name)\n",
    "        \n",
    "c = np.array(charmers)\n",
    "d = np.array(charms)\n",
    "df2 = pd.DataFrame({\"charmer\" : c, \"application\" : d})\n",
    "df2.to_csv(\"charm-uploads.csv\", index=False)"
   ]
  },
  {
   "cell_type": "code",
   "execution_count": null,
   "metadata": {},
   "outputs": [],
   "source": [
    "print(df2[\"charmer\"].unique())"
   ]
  },
  {
   "cell_type": "markdown",
   "metadata": {},
   "source": [
    "Number of charmers uploading the charms in the time period."
   ]
  },
  {
   "cell_type": "code",
   "execution_count": null,
   "metadata": {},
   "outputs": [],
   "source": [
    "len(df2[\"charmer\"].unique())"
   ]
  },
  {
   "cell_type": "code",
   "execution_count": null,
   "metadata": {},
   "outputs": [],
   "source": [
    "df2.groupby([\"charmer\"]).count()"
   ]
  },
  {
   "cell_type": "code",
   "execution_count": null,
   "metadata": {},
   "outputs": [],
   "source": [
    "charmer_count = df2.groupby([\"charmer\"]).count()\n",
    "charmer_count.to_csv(\"charmer-count.cvs\")"
   ]
  },
  {
   "cell_type": "code",
   "execution_count": null,
   "metadata": {},
   "outputs": [],
   "source": [
    "df2.groupby([\"charmer\"]).count().plot(kind=\"bar\", figsize=(30,15))"
   ]
  },
  {
   "cell_type": "code",
   "execution_count": null,
   "metadata": {},
   "outputs": [],
   "source": [
    "df2.groupby([\"charmer\"]).count().hist(bins=200, figsize=(20,15))\n",
    "plt.show()"
   ]
  },
  {
   "cell_type": "code",
   "execution_count": null,
   "metadata": {},
   "outputs": [],
   "source": [
    "df2.groupby([\"charmer\"]).count().agg([pd.np.min, pd.np.max, pd.np.mean, pd.np.sum])"
   ]
  },
  {
   "cell_type": "code",
   "execution_count": null,
   "metadata": {},
   "outputs": [],
   "source": [
    "print(df2[\"application\"].unique())"
   ]
  },
  {
   "cell_type": "markdown",
   "metadata": {},
   "source": [
    "Number of applications loaded in the time period."
   ]
  },
  {
   "cell_type": "code",
   "execution_count": null,
   "metadata": {},
   "outputs": [],
   "source": [
    "len(df2[\"application\"].unique())"
   ]
  },
  {
   "cell_type": "code",
   "execution_count": null,
   "metadata": {},
   "outputs": [],
   "source": [
    "df2.groupby([\"application\"]).count()"
   ]
  },
  {
   "cell_type": "code",
   "execution_count": null,
   "metadata": {},
   "outputs": [],
   "source": [
    "df2.groupby([\"application\"]).count().plot(kind=\"bar\", figsize=(50,15))"
   ]
  },
  {
   "cell_type": "code",
   "execution_count": null,
   "metadata": {},
   "outputs": [],
   "source": [
    "df2.groupby([\"application\"]).count().hist(bins=200, figsize=(20,15))\n",
    "plt.show()"
   ]
  },
  {
   "cell_type": "code",
   "execution_count": null,
   "metadata": {},
   "outputs": [],
   "source": [
    "df2.groupby([\"application\"]).count().agg([pd.np.min, pd.np.max, pd.np.mean, pd.np.sum])"
   ]
  },
  {
   "cell_type": "code",
   "execution_count": null,
   "metadata": {},
   "outputs": [],
   "source": [
    "app_count = df2.groupby([\"application\"]).count()\n",
    "app_count.to_csv(\"app-count.csv\")"
   ]
  },
  {
   "cell_type": "code",
   "execution_count": null,
   "metadata": {},
   "outputs": [],
   "source": [
    "df2.groupby([\"charmer\", \"application\"]).count()"
   ]
  },
  {
   "cell_type": "code",
   "execution_count": null,
   "metadata": {},
   "outputs": [],
   "source": [
    "grp = df2.groupby([\"charmer\", \"application\"]).count()\n",
    "grp.to_csv(\"charmer-app-count.csv\")\n",
    "\n",
    "grp2 = df2.groupby([\"application\", \"charmer\"]).count()\n",
    "grp2.to_csv(\"app-charmer-count.csv\")"
   ]
  },
  {
   "cell_type": "code",
   "execution_count": null,
   "metadata": {},
   "outputs": [],
   "source": [
    "grp2.filter(like=\"docker\", axis=0)"
   ]
  },
  {
   "cell_type": "code",
   "execution_count": null,
   "metadata": {},
   "outputs": [],
   "source": [
    "grp.filter(like=\"yellow\", axis=0)"
   ]
  },
  {
   "cell_type": "code",
   "execution_count": null,
   "metadata": {},
   "outputs": [],
   "source": [
    "df2.groupby([\"charmer\"]).count().filter(like=\"yellow\", axis=0)"
   ]
  }
 ],
 "metadata": {
  "kernelspec": {
   "display_name": "Python 3",
   "language": "python",
   "name": "python3"
  },
  "language_info": {
   "codemirror_mode": {
    "name": "ipython",
    "version": 3
   },
   "file_extension": ".py",
   "mimetype": "text/x-python",
   "name": "python",
   "nbconvert_exporter": "python",
   "pygments_lexer": "ipython3",
   "version": "3.6.6"
  }
 },
 "nbformat": 4,
 "nbformat_minor": 2
}
