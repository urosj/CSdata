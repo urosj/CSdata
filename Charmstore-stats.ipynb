{
 "cells": [
  {
   "cell_type": "markdown",
   "metadata": {},
   "source": [
    "Code that downloads the information about charm uploads."
   ]
  },
  {
   "cell_type": "code",
   "execution_count": 5,
   "metadata": {},
   "outputs": [],
   "source": [
    "import json\n",
    "import sys\n",
    "import requests\n",
    "from datetime import datetime\n",
    "from datetime import timedelta\n",
    "\n",
    "CHARMSTORE_URL = 'https://api.jujucharms.com/charmstore/v5'\n",
    "CHANGES_URL = '/changes/published?'\n",
    "\n",
    "def download_stats(start_date_str, end_date_str, interval, arg_output):\n",
    "    start_date = datetime.strptime(start_date_str, '%Y-%m-%d')\n",
    "    end_date = datetime.strptime(end_date_str, '%Y-%m-%d')\n",
    "\n",
    "    data = []\n",
    "\n",
    "    while start_date <= end_date:\n",
    "        eow = start_date + timedelta(days=interval-1)\n",
    "        param1 = start_date.strftime('%Y-%m-%d')\n",
    "        param2 = eow.strftime('%Y-%m-%d')\n",
    "        print(param1, param2)\n",
    "\n",
    "        cs_data = {}\n",
    "        cs_data[\"start\"] = param1\n",
    "        cs_data[\"stop\"] = param2\n",
    "\n",
    "        url = CHARMSTORE_URL+CHANGES_URL+\"start=\"+param1+\"&stop=\"+param2\n",
    "        #print url\n",
    "        r = requests.get(url)\t\n",
    "        uploads = {}\n",
    "        uploads[\"date\"]=param1\n",
    "        uploads[\"charms\"]=r.json()\n",
    "        data.append(uploads)\n",
    "\n",
    "        start_date = eow + timedelta(days=1)\n",
    "\n",
    "    f = open(arg_output, \"w\")\n",
    "    f.write(json.dumps(data))\n"
   ]
  },
  {
   "cell_type": "markdown",
   "metadata": {},
   "source": [
    "Let's get data for two days, October 18th and 19th 2018. Write it out to test-changes.json."
   ]
  },
  {
   "cell_type": "code",
   "execution_count": 8,
   "metadata": {},
   "outputs": [
    {
     "name": "stdout",
     "output_type": "stream",
     "text": [
      "2018-10-18 2018-10-18\n",
      "2018-10-19 2018-10-19\n"
     ]
    }
   ],
   "source": [
    "download_stats(\"2018-10-18\", \"2018-10-19\", 1, \"test-schanges.json\")"
   ]
  },
  {
   "cell_type": "code",
   "execution_count": null,
   "metadata": {},
   "outputs": [],
   "source": []
  }
 ],
 "metadata": {
  "kernelspec": {
   "display_name": "Python 3",
   "language": "python",
   "name": "python3"
  },
  "language_info": {
   "codemirror_mode": {
    "name": "ipython",
    "version": 3
   },
   "file_extension": ".py",
   "mimetype": "text/x-python",
   "name": "python",
   "nbconvert_exporter": "python",
   "pygments_lexer": "ipython3",
   "version": "3.6.6"
  }
 },
 "nbformat": 4,
 "nbformat_minor": 2
}
